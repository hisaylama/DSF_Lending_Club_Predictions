{
 "cells": [
  {
   "cell_type": "markdown",
   "id": "86dd1bb8-3199-48ac-a25e-2000293623c3",
   "metadata": {},
   "source": [
    "# <span style=\"color:BLUE\">  Step 4: Making predictions\n",
    "\n",
    "\n",
    "To make the predictions following information about the loan applciants are mandatory: \n",
    "\n",
    "| Order | Column Name                | 5 Cs Category    | Description                                                       | Example Range/Value |\n",
    "|-------|----------------------------|------------------|-------------------------------------------------------------------|---------------------|\n",
    "| 1     | **fico_score_capped**      | Character        | Borrower’s FICO score; reflects payment history & utilization     | 500 (300–850)       |\n",
    "| 2     | **pub_rec_bankruptcies**   | Character        | Number of recorded bankruptcies                                   | 0 – 100             |\n",
    "| 3     | **total_acc**              | Character        | Total number of credit lines; indicates credit mix & age          | 2 – 110             |\n",
    "| 4     | **high_util_flag**         | Character        | Credit utilization flag: 0 if > 75% of limit used, else 1         | 0 or 1              |\n",
    "| 5     | **annual_inc_capped**      | Capacity         | Borrower’s self‑reported annual income, gauges repayment ability  | Numeric USD value  |\n",
    "| 6     | **dti_capped**             | Capacity         | Debt‑to‑income ratio; measures cash‐flow coverage                  | < 100               |\n",
    "| 7     | **term_numeric**           | Conditions       | Loan repayment term in months                                     | 36 or 60            |\n",
    "| 8     | **int_rate_numeric_capped**| Conditions       | Assigned interest rate (%)                                        | 5 – 30%             |\n",
    "| 9     | **loan_amnt_capped**       | Conditions       | Amount of loan requested (USD)                                    | Numeric USD value  |\n",
    "| 10    | **loan_income_ratio**      | Conditions       | Loan amount divided by annual income                              | ≈ 10                |\n",
    "| 11    | **loan_term_ratio_capped** | Conditions       | Loan amount to installment ratio                                  | ≈ 10                |\n",
    "\n",
    "\n",
    "\n",
    "- Use `baseline_model_2.pkl` model for making the decisions on loan approval\n",
    "\n",
    "- **When the model predicts 0 or False**, -- **Loan can be approved!** \n",
    "- **When the model predicts 1 or True**, --  **Loan cannot be approved!**\n"
   ]
  },
  {
   "cell_type": "code",
   "execution_count": 71,
   "id": "2e78b4ce-561f-4474-80fe-09542654b13d",
   "metadata": {},
   "outputs": [
    {
     "name": "stdin",
     "output_type": "stream",
     "text": [
      "1. Enter capped FICO score (mean of range, e.g. 500):  600\n",
      "2. Enter number of bankruptcies recorded (0–100):  1\n",
      "3. Enter total number of credit lines (2–110):  3\n",
      "4. Enter high utilization flag (0 if utilization >75%, else 1):  0\n",
      "5. Enter annual income (USD):  100000\n",
      "6. Enter debt-to-income ratio (capped <100):  40\n",
      "7. Enter loan term in months (36 or 60):  50\n",
      "8. Enter interest rate (%) for the loan (5–30):  20\n",
      "9. Enter amount of loan requested (USD):  600000\n",
      "10. Enter loan amount/installment ratio (e.g., 10):  18\n",
      "11. Enter loan amount/annual income ratio (e.g., 10):  60\n"
     ]
    }
   ],
   "source": [
    "import pandas as pd\n",
    "\n",
    "def collect_loan_features():\n",
    "    \"\"\"\n",
    "    Prompt the user for each loan feature and return\n",
    "    a dictionary of inputs.\n",
    "    \"\"\"\n",
    "    # 1. Capped FICO score\n",
    "    fico_score_capped = float(input(\"1. Enter capped FICO score (mean of range, e.g. 500): \"))\n",
    "    # 2. Number of bankruptcies recorded\n",
    "    pub_rec_bankruptcies = int(input(\"2. Enter number of bankruptcies recorded (0–100): \"))  \n",
    "    # 3. Total number of credit lines\n",
    "    total_acc = int(input(\"3. Enter total number of credit lines (2–110): \"))\n",
    "    # 4. High utilization flag\n",
    "    high_util_flag = int(input(\"4. Enter high utilization flag (0 or 1 only, if utilization >75%, else 1): \"))\n",
    "    # 5. Self‑reported annual income (USD)\n",
    "    annual_inc_capped = float(input(\"5. Enter annual income (USD): \"))\n",
    "    # 6. Debt‑to‑income ratio\n",
    "    dti_capped = float(input(\"6. Enter debt-to-income ratio (capped <100): \"))\n",
    "    # 7. Term in months\n",
    "    term_numeric = int(input(\"7. Enter loan term in months (36 or 60): \"))\n",
    "    # 8. Interest rate for the loan\n",
    "    int_rate_numeric_capped = float(input(\"8. Enter interest rate (%) for the loan (5–30): \"))\n",
    "    # 9. Amount of loan requested (USD)\n",
    "    loan_amnt_capped = float(input(\"9. Enter amount of loan requested (USD): \"))\n",
    "    # 10. Loan amount to installment ratio\n",
    "    loan_term_ratio_capped = float(input(\"10. Enter loan amount/installment ratio (e.g., 10): \"))  \n",
    "    # 11. Loan amount to annual income ratio\n",
    "    loan_income_ratio = float(input(\"11. Enter loan amount/annual income ratio (e.g., 10): \"))\n",
    "       \n",
    "    \n",
    "  \n",
    "    # Collect into a dict\n",
    "    inputs = {\n",
    "        \"pub_rec_bankruptcies\": pub_rec_bankruptcies,\n",
    "        \"total_acc\": total_acc,\n",
    "        \"term_numeric\": term_numeric,\n",
    "        \"loan_income_ratio\": loan_income_ratio,\n",
    "        \"high_util_flag\": high_util_flag,\n",
    "        \"fico_score_capped\": fico_score_capped,\n",
    "        \"annual_inc_capped\": annual_inc_capped,\n",
    "        \"dti_capped\": dti_capped,\n",
    "        \"loan_term_ratio_capped\": loan_term_ratio_capped,\n",
    "        \"int_rate_numeric_capped\": int_rate_numeric_capped,\n",
    "        \"loan_amnt_capped\": loan_amnt_capped\n",
    "    }\n",
    "\n",
    "    return inputs\n",
    "\n",
    "if __name__ == \"__main__\":\n",
    "    # Prompt user and get feature values\n",
    "    record = collect_loan_features()\n",
    "\n",
    "#Whenever you run each snippet, you’ll be prompted to enter the required numeric value."
   ]
  },
  {
   "cell_type": "code",
   "execution_count": 73,
   "id": "672e3d1a-33b5-4c18-84cc-dcc732874b25",
   "metadata": {},
   "outputs": [],
   "source": [
    "import pickle\n",
    "import pandas as pd\n",
    "\n",
    "# # Load the model to a file\n",
    "with open('Desktop/Courses/DSFinance/Data_Science_in_Finance_Resources/Capstone_project/baseline_model_1.pkl', 'rb') as file:\n",
    "      loaded_model_pickle_1 = pickle.load(file)\n"
   ]
  },
  {
   "cell_type": "code",
   "execution_count": 75,
   "id": "336c2972-488e-4d54-8054-05d3eb838ca6",
   "metadata": {},
   "outputs": [
    {
     "name": "stdout",
     "output_type": "stream",
     "text": [
      "Model 1  →  Prediction: False,  Confidence (%): 41.0000\n"
     ]
    }
   ],
   "source": [
    "single_record = record\n",
    "# Create a one‐row DataFrame\n",
    "X_single = pd.DataFrame([single_record])  # DataFrame from single dict :contentReference[oaicite:2]{index=2}\n",
    "\n",
    "# Predict with model \n",
    "pred      = loaded_model_pickle_1.predict(X_single)[0]\n",
    "proba     = loaded_model_pickle_1.predict_proba(X_single)[0][1]\n",
    "\n",
    "# Output the results\n",
    "print(f\"Model 1  →  Prediction: {pred},  Confidence (%): {100*proba:.4f}\")\n"
   ]
  },
  {
   "cell_type": "code",
   "execution_count": 85,
   "id": "667f7998-ad49-4c39-8ce7-43c358e5e9e5",
   "metadata": {},
   "outputs": [
    {
     "name": "stdout",
     "output_type": "stream",
     "text": [
      "Loan can be approved!, Confidence (%): 59.0000\n"
     ]
    }
   ],
   "source": [
    "# Loan decision\n",
    "if pred == False:\n",
    "    print(f\"Loan can be approved!, Confidence (%): {100 - 100*proba:.4f}\")\n",
    "elif pred == True:\n",
    "    print(f\"Loan cannot be approved!, Confidence (%): {100*proba:.4f}\")"
   ]
  },
  {
   "cell_type": "markdown",
   "id": "b40307e8-bf9d-488c-b63c-1d7c93ce43be",
   "metadata": {},
   "source": [
    "**Confidence represents the model’s estimated probability that this specific loan application will default or not.**"
   ]
  },
  {
   "cell_type": "markdown",
   "id": "b113cf12-aef3-4999-87a0-32dcb3ebf567",
   "metadata": {},
   "source": [
    "### Summary:\n",
    "\n",
    "This demonstration shows how the model, after prompting the user to enter a set of numeric inputs, predicts the loan outcome. It then outputs a decision on whether the loan is approved or denied."
   ]
  },
  {
   "cell_type": "code",
   "execution_count": null,
   "id": "0ffdfaf2-9691-4d56-a9a0-6391d9fda8a4",
   "metadata": {},
   "outputs": [],
   "source": []
  }
 ],
 "metadata": {
  "kernelspec": {
   "display_name": "Python 3 (ipykernel)",
   "language": "python",
   "name": "python3"
  },
  "language_info": {
   "codemirror_mode": {
    "name": "ipython",
    "version": 3
   },
   "file_extension": ".py",
   "mimetype": "text/x-python",
   "name": "python",
   "nbconvert_exporter": "python",
   "pygments_lexer": "ipython3",
   "version": "3.12.2"
  }
 },
 "nbformat": 4,
 "nbformat_minor": 5
}
